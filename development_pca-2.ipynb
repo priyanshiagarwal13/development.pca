{
 "cells": [
  {
   "cell_type": "code",
   "execution_count": 78,
   "id": "79096a1e",
   "metadata": {},
   "outputs": [],
   "source": [
    "import numpy as np # linear algebra\n",
    "import pandas as pd # data processing, CSV file I/O (e.g. pd.read_csv)\n",
    "import matplotlib as mpl\n",
    "import matplotlib.pyplot as plt\n",
    "import seaborn as sns\n",
    "%matplotlib inline"
   ]
  },
  {
   "cell_type": "code",
   "execution_count": 79,
   "id": "86a17188",
   "metadata": {},
   "outputs": [],
   "source": [
    "df = pd.read_csv('/Users/priyanshiagarwal/Downloads/Country-data.csv')"
   ]
  },
  {
   "cell_type": "code",
   "execution_count": 80,
   "id": "20824493",
   "metadata": {},
   "outputs": [
    {
     "name": "stdout",
     "output_type": "stream",
     "text": [
      "Columns names:\n",
      "['country', 'child_mort', 'exports', 'health', 'imports', 'income', 'inflation', 'life_expec', 'total_fer', 'gdpp']\n"
     ]
    }
   ],
   "source": [
    "columns_names=df.columns.tolist()\n",
    "print(\"Columns names:\")\n",
    "print(columns_names)"
   ]
  },
  {
   "cell_type": "code",
   "execution_count": 81,
   "id": "4ebab47f",
   "metadata": {},
   "outputs": [
    {
     "data": {
      "text/plain": [
       "(167, 10)"
      ]
     },
     "execution_count": 81,
     "metadata": {},
     "output_type": "execute_result"
    }
   ],
   "source": [
    "df.shape"
   ]
  },
  {
   "cell_type": "code",
   "execution_count": 82,
   "id": "b478e8d7",
   "metadata": {},
   "outputs": [
    {
     "data": {
      "text/html": [
       "<div>\n",
       "<style scoped>\n",
       "    .dataframe tbody tr th:only-of-type {\n",
       "        vertical-align: middle;\n",
       "    }\n",
       "\n",
       "    .dataframe tbody tr th {\n",
       "        vertical-align: top;\n",
       "    }\n",
       "\n",
       "    .dataframe thead th {\n",
       "        text-align: right;\n",
       "    }\n",
       "</style>\n",
       "<table border=\"1\" class=\"dataframe\">\n",
       "  <thead>\n",
       "    <tr style=\"text-align: right;\">\n",
       "      <th></th>\n",
       "      <th>country</th>\n",
       "      <th>child_mort</th>\n",
       "      <th>exports</th>\n",
       "      <th>health</th>\n",
       "      <th>imports</th>\n",
       "      <th>income</th>\n",
       "      <th>inflation</th>\n",
       "      <th>life_expec</th>\n",
       "      <th>total_fer</th>\n",
       "      <th>gdpp</th>\n",
       "    </tr>\n",
       "  </thead>\n",
       "  <tbody>\n",
       "    <tr>\n",
       "      <th>0</th>\n",
       "      <td>Afghanistan</td>\n",
       "      <td>90.2</td>\n",
       "      <td>10.0</td>\n",
       "      <td>7.58</td>\n",
       "      <td>44.9</td>\n",
       "      <td>1610</td>\n",
       "      <td>9.44</td>\n",
       "      <td>56.2</td>\n",
       "      <td>5.82</td>\n",
       "      <td>553</td>\n",
       "    </tr>\n",
       "    <tr>\n",
       "      <th>1</th>\n",
       "      <td>Albania</td>\n",
       "      <td>16.6</td>\n",
       "      <td>28.0</td>\n",
       "      <td>6.55</td>\n",
       "      <td>48.6</td>\n",
       "      <td>9930</td>\n",
       "      <td>4.49</td>\n",
       "      <td>76.3</td>\n",
       "      <td>1.65</td>\n",
       "      <td>4090</td>\n",
       "    </tr>\n",
       "    <tr>\n",
       "      <th>2</th>\n",
       "      <td>Algeria</td>\n",
       "      <td>27.3</td>\n",
       "      <td>38.4</td>\n",
       "      <td>4.17</td>\n",
       "      <td>31.4</td>\n",
       "      <td>12900</td>\n",
       "      <td>16.10</td>\n",
       "      <td>76.5</td>\n",
       "      <td>2.89</td>\n",
       "      <td>4460</td>\n",
       "    </tr>\n",
       "    <tr>\n",
       "      <th>3</th>\n",
       "      <td>Angola</td>\n",
       "      <td>119.0</td>\n",
       "      <td>62.3</td>\n",
       "      <td>2.85</td>\n",
       "      <td>42.9</td>\n",
       "      <td>5900</td>\n",
       "      <td>22.40</td>\n",
       "      <td>60.1</td>\n",
       "      <td>6.16</td>\n",
       "      <td>3530</td>\n",
       "    </tr>\n",
       "    <tr>\n",
       "      <th>4</th>\n",
       "      <td>Antigua and Barbuda</td>\n",
       "      <td>10.3</td>\n",
       "      <td>45.5</td>\n",
       "      <td>6.03</td>\n",
       "      <td>58.9</td>\n",
       "      <td>19100</td>\n",
       "      <td>1.44</td>\n",
       "      <td>76.8</td>\n",
       "      <td>2.13</td>\n",
       "      <td>12200</td>\n",
       "    </tr>\n",
       "  </tbody>\n",
       "</table>\n",
       "</div>"
      ],
      "text/plain": [
       "               country  child_mort  exports  health  imports  income  \\\n",
       "0          Afghanistan        90.2     10.0    7.58     44.9    1610   \n",
       "1              Albania        16.6     28.0    6.55     48.6    9930   \n",
       "2              Algeria        27.3     38.4    4.17     31.4   12900   \n",
       "3               Angola       119.0     62.3    2.85     42.9    5900   \n",
       "4  Antigua and Barbuda        10.3     45.5    6.03     58.9   19100   \n",
       "\n",
       "   inflation  life_expec  total_fer   gdpp  \n",
       "0       9.44        56.2       5.82    553  \n",
       "1       4.49        76.3       1.65   4090  \n",
       "2      16.10        76.5       2.89   4460  \n",
       "3      22.40        60.1       6.16   3530  \n",
       "4       1.44        76.8       2.13  12200  "
      ]
     },
     "execution_count": 82,
     "metadata": {},
     "output_type": "execute_result"
    }
   ],
   "source": [
    "df.head()"
   ]
  },
  {
   "cell_type": "code",
   "execution_count": 83,
   "id": "8eedb122",
   "metadata": {},
   "outputs": [
    {
     "data": {
      "text/html": [
       "<div>\n",
       "<style scoped>\n",
       "    .dataframe tbody tr th:only-of-type {\n",
       "        vertical-align: middle;\n",
       "    }\n",
       "\n",
       "    .dataframe tbody tr th {\n",
       "        vertical-align: top;\n",
       "    }\n",
       "\n",
       "    .dataframe thead th {\n",
       "        text-align: right;\n",
       "    }\n",
       "</style>\n",
       "<table border=\"1\" class=\"dataframe\">\n",
       "  <thead>\n",
       "    <tr style=\"text-align: right;\">\n",
       "      <th></th>\n",
       "      <th>child_mort</th>\n",
       "      <th>exports</th>\n",
       "      <th>health</th>\n",
       "      <th>imports</th>\n",
       "      <th>income</th>\n",
       "      <th>inflation</th>\n",
       "      <th>life_expec</th>\n",
       "      <th>total_fer</th>\n",
       "      <th>gdpp</th>\n",
       "    </tr>\n",
       "  </thead>\n",
       "  <tbody>\n",
       "    <tr>\n",
       "      <th>child_mort</th>\n",
       "      <td>1.000000</td>\n",
       "      <td>-0.318093</td>\n",
       "      <td>-0.200402</td>\n",
       "      <td>-0.127211</td>\n",
       "      <td>-0.524315</td>\n",
       "      <td>0.288276</td>\n",
       "      <td>-0.886676</td>\n",
       "      <td>0.848478</td>\n",
       "      <td>-0.483032</td>\n",
       "    </tr>\n",
       "    <tr>\n",
       "      <th>exports</th>\n",
       "      <td>-0.318093</td>\n",
       "      <td>1.000000</td>\n",
       "      <td>-0.114408</td>\n",
       "      <td>0.737381</td>\n",
       "      <td>0.516784</td>\n",
       "      <td>-0.107294</td>\n",
       "      <td>0.316313</td>\n",
       "      <td>-0.320011</td>\n",
       "      <td>0.418725</td>\n",
       "    </tr>\n",
       "    <tr>\n",
       "      <th>health</th>\n",
       "      <td>-0.200402</td>\n",
       "      <td>-0.114408</td>\n",
       "      <td>1.000000</td>\n",
       "      <td>0.095717</td>\n",
       "      <td>0.129579</td>\n",
       "      <td>-0.255376</td>\n",
       "      <td>0.210692</td>\n",
       "      <td>-0.196674</td>\n",
       "      <td>0.345966</td>\n",
       "    </tr>\n",
       "    <tr>\n",
       "      <th>imports</th>\n",
       "      <td>-0.127211</td>\n",
       "      <td>0.737381</td>\n",
       "      <td>0.095717</td>\n",
       "      <td>1.000000</td>\n",
       "      <td>0.122406</td>\n",
       "      <td>-0.246994</td>\n",
       "      <td>0.054391</td>\n",
       "      <td>-0.159048</td>\n",
       "      <td>0.115498</td>\n",
       "    </tr>\n",
       "    <tr>\n",
       "      <th>income</th>\n",
       "      <td>-0.524315</td>\n",
       "      <td>0.516784</td>\n",
       "      <td>0.129579</td>\n",
       "      <td>0.122406</td>\n",
       "      <td>1.000000</td>\n",
       "      <td>-0.147756</td>\n",
       "      <td>0.611962</td>\n",
       "      <td>-0.501840</td>\n",
       "      <td>0.895571</td>\n",
       "    </tr>\n",
       "    <tr>\n",
       "      <th>inflation</th>\n",
       "      <td>0.288276</td>\n",
       "      <td>-0.107294</td>\n",
       "      <td>-0.255376</td>\n",
       "      <td>-0.246994</td>\n",
       "      <td>-0.147756</td>\n",
       "      <td>1.000000</td>\n",
       "      <td>-0.239705</td>\n",
       "      <td>0.316921</td>\n",
       "      <td>-0.221631</td>\n",
       "    </tr>\n",
       "    <tr>\n",
       "      <th>life_expec</th>\n",
       "      <td>-0.886676</td>\n",
       "      <td>0.316313</td>\n",
       "      <td>0.210692</td>\n",
       "      <td>0.054391</td>\n",
       "      <td>0.611962</td>\n",
       "      <td>-0.239705</td>\n",
       "      <td>1.000000</td>\n",
       "      <td>-0.760875</td>\n",
       "      <td>0.600089</td>\n",
       "    </tr>\n",
       "    <tr>\n",
       "      <th>total_fer</th>\n",
       "      <td>0.848478</td>\n",
       "      <td>-0.320011</td>\n",
       "      <td>-0.196674</td>\n",
       "      <td>-0.159048</td>\n",
       "      <td>-0.501840</td>\n",
       "      <td>0.316921</td>\n",
       "      <td>-0.760875</td>\n",
       "      <td>1.000000</td>\n",
       "      <td>-0.454910</td>\n",
       "    </tr>\n",
       "    <tr>\n",
       "      <th>gdpp</th>\n",
       "      <td>-0.483032</td>\n",
       "      <td>0.418725</td>\n",
       "      <td>0.345966</td>\n",
       "      <td>0.115498</td>\n",
       "      <td>0.895571</td>\n",
       "      <td>-0.221631</td>\n",
       "      <td>0.600089</td>\n",
       "      <td>-0.454910</td>\n",
       "      <td>1.000000</td>\n",
       "    </tr>\n",
       "  </tbody>\n",
       "</table>\n",
       "</div>"
      ],
      "text/plain": [
       "            child_mort   exports    health   imports    income  inflation  \\\n",
       "child_mort    1.000000 -0.318093 -0.200402 -0.127211 -0.524315   0.288276   \n",
       "exports      -0.318093  1.000000 -0.114408  0.737381  0.516784  -0.107294   \n",
       "health       -0.200402 -0.114408  1.000000  0.095717  0.129579  -0.255376   \n",
       "imports      -0.127211  0.737381  0.095717  1.000000  0.122406  -0.246994   \n",
       "income       -0.524315  0.516784  0.129579  0.122406  1.000000  -0.147756   \n",
       "inflation     0.288276 -0.107294 -0.255376 -0.246994 -0.147756   1.000000   \n",
       "life_expec   -0.886676  0.316313  0.210692  0.054391  0.611962  -0.239705   \n",
       "total_fer     0.848478 -0.320011 -0.196674 -0.159048 -0.501840   0.316921   \n",
       "gdpp         -0.483032  0.418725  0.345966  0.115498  0.895571  -0.221631   \n",
       "\n",
       "            life_expec  total_fer      gdpp  \n",
       "child_mort   -0.886676   0.848478 -0.483032  \n",
       "exports       0.316313  -0.320011  0.418725  \n",
       "health        0.210692  -0.196674  0.345966  \n",
       "imports       0.054391  -0.159048  0.115498  \n",
       "income        0.611962  -0.501840  0.895571  \n",
       "inflation    -0.239705   0.316921 -0.221631  \n",
       "life_expec    1.000000  -0.760875  0.600089  \n",
       "total_fer    -0.760875   1.000000 -0.454910  \n",
       "gdpp          0.600089  -0.454910  1.000000  "
      ]
     },
     "execution_count": 83,
     "metadata": {},
     "output_type": "execute_result"
    }
   ],
   "source": [
    "df.corr()"
   ]
  },
  {
   "cell_type": "code",
   "execution_count": 84,
   "id": "123ae00e",
   "metadata": {},
   "outputs": [
    {
     "data": {
      "text/plain": [
       "Text(0.5, 1.0, 'Correlation between different fearures')"
      ]
     },
     "execution_count": 84,
     "metadata": {},
     "output_type": "execute_result"
    },
    {
     "data": {
      "image/png": "[encoded data removed]",
      "text/plain": [
       "<Figure size 720x720 with 2 Axes>"
      ]
     },
     "metadata": {
      "needs_background": "light"
     },
     "output_type": "display_data"
    }
   ],
   "source": [
    "correlation = df.corr()\n",
    "plt.figure(figsize=(10,10))\n",
    "sns.heatmap(correlation, vmax=1, square=True,annot=True,cmap='cubehelix')\n",
    "\n",
    "plt.title('Correlation between different fearures')"
   ]
  },
  {
   "cell_type": "code",
   "execution_count": 87,
   "id": "3d7fe58f",
   "metadata": {},
   "outputs": [
    {
     "data": {
      "text/html": [
       "<div>\n",
       "<style scoped>\n",
       "    .dataframe tbody tr th:only-of-type {\n",
       "        vertical-align: middle;\n",
       "    }\n",
       "\n",
       "    .dataframe tbody tr th {\n",
       "        vertical-align: top;\n",
       "    }\n",
       "\n",
       "    .dataframe thead th {\n",
       "        text-align: right;\n",
       "    }\n",
       "</style>\n",
       "<table border=\"1\" class=\"dataframe\">\n",
       "  <thead>\n",
       "    <tr style=\"text-align: right;\">\n",
       "      <th></th>\n",
       "      <th>child_mort</th>\n",
       "      <th>exports</th>\n",
       "      <th>health</th>\n",
       "      <th>imports</th>\n",
       "      <th>income</th>\n",
       "      <th>inflation</th>\n",
       "      <th>life_expec</th>\n",
       "      <th>total_fer</th>\n",
       "      <th>gdpp</th>\n",
       "    </tr>\n",
       "  </thead>\n",
       "  <tbody>\n",
       "    <tr>\n",
       "      <th>0</th>\n",
       "      <td>90.2</td>\n",
       "      <td>10.0</td>\n",
       "      <td>7.58</td>\n",
       "      <td>44.9</td>\n",
       "      <td>1610</td>\n",
       "      <td>9.44</td>\n",
       "      <td>56.2</td>\n",
       "      <td>5.82</td>\n",
       "      <td>553</td>\n",
       "    </tr>\n",
       "    <tr>\n",
       "      <th>1</th>\n",
       "      <td>16.6</td>\n",
       "      <td>28.0</td>\n",
       "      <td>6.55</td>\n",
       "      <td>48.6</td>\n",
       "      <td>9930</td>\n",
       "      <td>4.49</td>\n",
       "      <td>76.3</td>\n",
       "      <td>1.65</td>\n",
       "      <td>4090</td>\n",
       "    </tr>\n",
       "    <tr>\n",
       "      <th>2</th>\n",
       "      <td>27.3</td>\n",
       "      <td>38.4</td>\n",
       "      <td>4.17</td>\n",
       "      <td>31.4</td>\n",
       "      <td>12900</td>\n",
       "      <td>16.10</td>\n",
       "      <td>76.5</td>\n",
       "      <td>2.89</td>\n",
       "      <td>4460</td>\n",
       "    </tr>\n",
       "    <tr>\n",
       "      <th>3</th>\n",
       "      <td>119.0</td>\n",
       "      <td>62.3</td>\n",
       "      <td>2.85</td>\n",
       "      <td>42.9</td>\n",
       "      <td>5900</td>\n",
       "      <td>22.40</td>\n",
       "      <td>60.1</td>\n",
       "      <td>6.16</td>\n",
       "      <td>3530</td>\n",
       "    </tr>\n",
       "    <tr>\n",
       "      <th>4</th>\n",
       "      <td>10.3</td>\n",
       "      <td>45.5</td>\n",
       "      <td>6.03</td>\n",
       "      <td>58.9</td>\n",
       "      <td>19100</td>\n",
       "      <td>1.44</td>\n",
       "      <td>76.8</td>\n",
       "      <td>2.13</td>\n",
       "      <td>12200</td>\n",
       "    </tr>\n",
       "  </tbody>\n",
       "</table>\n",
       "</div>"
      ],
      "text/plain": [
       "   child_mort  exports  health  imports  income  inflation  life_expec  \\\n",
       "0        90.2     10.0    7.58     44.9    1610       9.44        56.2   \n",
       "1        16.6     28.0    6.55     48.6    9930       4.49        76.3   \n",
       "2        27.3     38.4    4.17     31.4   12900      16.10        76.5   \n",
       "3       119.0     62.3    2.85     42.9    5900      22.40        60.1   \n",
       "4        10.3     45.5    6.03     58.9   19100       1.44        76.8   \n",
       "\n",
       "   total_fer   gdpp  \n",
       "0       5.82    553  \n",
       "1       1.65   4090  \n",
       "2       2.89   4460  \n",
       "3       6.16   3530  \n",
       "4       2.13  12200  "
      ]
     },
     "execution_count": 87,
     "metadata": {},
     "output_type": "execute_result"
    }
   ],
   "source": [
    "df_drop=df.drop(labels=['country'],axis=1)\n",
    "df_drop.head()"
   ]
  },
  {
   "cell_type": "code",
   "execution_count": 88,
   "id": "b61ec1db",
   "metadata": {},
   "outputs": [
    {
     "data": {
      "text/plain": [
       "['child_mort',\n",
       " 'exports',\n",
       " 'health',\n",
       " 'imports',\n",
       " 'income',\n",
       " 'inflation',\n",
       " 'life_expec',\n",
       " 'total_fer',\n",
       " 'gdpp']"
      ]
     },
     "execution_count": 88,
     "metadata": {},
     "output_type": "execute_result"
    }
   ],
   "source": [
    "cols = df_drop.columns.tolist()\n",
    "cols"
   ]
  },
  {
   "cell_type": "code",
   "execution_count": 90,
   "id": "296e1168",
   "metadata": {},
   "outputs": [],
   "source": [
    "df_drop = df_drop.reindex(columns= cols)"
   ]
  },
  {
   "cell_type": "code",
   "execution_count": 91,
   "id": "f0c84b6c",
   "metadata": {},
   "outputs": [
    {
     "data": {
      "text/plain": [
       "array([[10.  ,  7.58, 44.9 , ...,  9.44, 56.2 ,  5.82],\n",
       "       [28.  ,  6.55, 48.6 , ...,  4.49, 76.3 ,  1.65],\n",
       "       [38.4 ,  4.17, 31.4 , ..., 16.1 , 76.5 ,  2.89],\n",
       "       ...,\n",
       "       [72.  ,  6.84, 80.2 , ..., 12.1 , 73.1 ,  1.95],\n",
       "       [30.  ,  5.18, 34.4 , ..., 23.6 , 67.5 ,  4.67],\n",
       "       [37.  ,  5.89, 30.9 , ..., 14.  , 52.  ,  5.4 ]])"
      ]
     },
     "execution_count": 91,
     "metadata": {},
     "output_type": "execute_result"
    }
   ],
   "source": [
    "X = df_drop.iloc[:,1:8].values\n",
    "y = df_drop.iloc[:,0].values\n",
    "X"
   ]
  },
  {
   "cell_type": "code",
   "execution_count": 92,
   "id": "9a010f24",
   "metadata": {},
   "outputs": [
    {
     "data": {
      "text/plain": [
       "array([ 90.2,  16.6,  27.3, 119. ,  10.3,  14.5,  18.1,   4.8,   4.3,\n",
       "        39.2,  13.8,   8.6,  49.4,  14.2,   5.5,   4.5,  18.8, 111. ,\n",
       "        42.7,  46.6,   6.9,  52.5,  19.8,  10.5,  10.8, 116. ,  93.6,\n",
       "        44.4, 108. ,   5.6,  26.5, 149. , 150. ,   8.7,  15.7,  18.6,\n",
       "        88.2, 116. ,  63.9,  10.2, 111. ,   5.5,   3.6,   3.4,   4.1,\n",
       "        34.4,  25.1,  29.1,  19.2, 111. ,  55.2,   4.5,  24.1,   3. ,\n",
       "         4.2,  63.7,  80.3,  16.5,   4.2,  74.7,   3.9,  14.6,  35.4,\n",
       "       109. , 114. ,  37.6, 208. ,   6. ,   2.6,  58.8,  33.3,  19.3,\n",
       "        36.9,   4.2,   4.6,   4. ,  18.1,   3.2,  21.1,  21.5,  62.2,\n",
       "        62.7,  10.8,  29.6,  78.9,   7.8,  10.3,  99.7,  89.3,  16.6,\n",
       "         6.1,   2.8,  10.4,  62.2,  90.5,   7.9,  13.2, 137. ,   6.8,\n",
       "        97.4,  15. ,  40. ,  17.2,  26.1,   6.8,  33.5, 101. ,  64.4,\n",
       "        56. ,  47. ,   4.5,   6.2, 123. , 130. ,   3.2,  11.7,  92.1,\n",
       "        19.7,  24.1,  20.3,  31.9,   6. ,   3.9,   9. ,  11.5,  10. ,\n",
       "        63.6,  18.9,  15.7,  66.8,   7.6,  14.4, 160. ,   2.8,   7. ,\n",
       "         3.2,  28.1,  53.7,   4.1,   3.8,  11.2,  20.7,  76.7,  24.1,\n",
       "         3. ,   4.5,  52.4,  71.9,  14.9,  62.6,  90.3,  17.4,  17.4,\n",
       "        19.1,  62. ,  81. ,  11.7,   8.6,   5.2,   7.3,  10.6,  36.3,\n",
       "        29.2,  17.1,  23.3,  56.3,  83.1])"
      ]
     },
     "execution_count": 92,
     "metadata": {},
     "output_type": "execute_result"
    }
   ],
   "source": [
    "y"
   ]
  },
  {
   "cell_type": "code",
   "execution_count": 97,
   "id": "062a1718",
   "metadata": {},
   "outputs": [],
   "source": [
    "from sklearn.preprocessing import StandardScaler\n",
    "X_std = StandardScaler().fit_transform(X)"
   ]
  },
  {
   "cell_type": "code",
   "execution_count": 98,
   "id": "8ffd9a71",
   "metadata": {},
   "outputs": [
    {
     "name": "stdout",
     "output_type": "stream",
     "text": [
      "Covariance matrix \n",
      "[[ 1.0060241  -0.11509761  0.74182289  0.51989676 -0.10794074  0.3182181\n",
      "  -0.32193832]\n",
      " [-0.11509761  1.0060241   0.09629328  0.1303592  -0.2569142   0.21196135\n",
      "  -0.19785877]\n",
      " [ 0.74182289  0.09629328  1.0060241   0.12314364 -0.2484822   0.05471819\n",
      "  -0.16000656]\n",
      " [ 0.51989676  0.1303592   0.12314364  1.0060241  -0.14864609  0.61564899\n",
      "  -0.50486319]\n",
      " [-0.10794074 -0.2569142  -0.2484822  -0.14864609  1.0060241  -0.24114897\n",
      "   0.31883023]\n",
      " [ 0.3182181   0.21196135  0.05471819  0.61564899 -0.24114897  1.0060241\n",
      "  -0.76545827]\n",
      " [-0.32193832 -0.19785877 -0.16000656 -0.50486319  0.31883023 -0.76545827\n",
      "   1.0060241 ]]\n"
     ]
    }
   ],
   "source": [
    "mean_vec = np.mean(X_std, axis=0)\n",
    "cov_mat = (X_std - mean_vec).T.dot((X_std - mean_vec)) / (X_std.shape[0]-1)\n",
    "print('Covariance matrix \\n%s' %cov_mat)"
   ]
  },
  {
   "cell_type": "code",
   "execution_count": 100,
   "id": "42a5bad6",
   "metadata": {},
   "outputs": [
    {
     "data": {
      "text/plain": [
       "Text(0.5, 1.0, 'Correlation between different features')"
      ]
     },
     "execution_count": 100,
     "metadata": {},
     "output_type": "execute_result"
    },
    {
     "data": {
      "image/png": "[encoded data removed]",
      "text/plain": [
       "<Figure size 576x576 with 2 Axes>"
      ]
     },
     "metadata": {
      "needs_background": "light"
     },
     "output_type": "display_data"
    }
   ],
   "source": [
    "plt.figure(figsize=(8,8))\n",
    "sns.heatmap(cov_mat, vmax=1, square=True,annot=True,cmap='cubehelix')\n",
    "\n",
    "plt.title('Correlation between different features')"
   ]
  },
  {
   "cell_type": "code",
   "execution_count": 101,
   "id": "4da9ec3e",
   "metadata": {},
   "outputs": [
    {
     "name": "stdout",
     "output_type": "stream",
     "text": [
      "Eigenvectors \n",
      "[[ 0.40923285 -0.55354705 -0.10741629  0.097195    0.07224982 -0.70463796\n",
      "  -0.05826081]\n",
      " [ 0.16169791  0.36662087  0.58056094  0.6828445   0.01691859 -0.18828482\n",
      "   0.01943941]\n",
      " [ 0.29055332 -0.60519374  0.35898036  0.11924038 -0.25330858  0.58337417\n",
      "  -0.04175511]\n",
      " [ 0.45051192  0.07480251 -0.32525695  0.19709182  0.69359883  0.33119511\n",
      "   0.23672092]\n",
      " [-0.26300875 -0.12381131 -0.59163746  0.66271195 -0.34067725  0.08692342\n",
      "   0.05156031]\n",
      " [ 0.47418277  0.32036961 -0.23313077 -0.03365972 -0.23225641  0.09237008\n",
      "  -0.74468504]\n",
      " [-0.47431755 -0.26335147  0.11120662  0.17576391  0.52843649  0.04393905\n",
      "  -0.61744087]]\n",
      "\n",
      "Eigenvalues \n",
      "[2.87080999 1.46155818 1.15262829 0.73336577 0.50059993 0.10842231\n",
      " 0.21478421]\n"
     ]
    }
   ],
   "source": [
    "eig_vals, eig_vecs = np.linalg.eig(cov_mat)\n",
    "\n",
    "print('Eigenvectors \\n%s' %eig_vecs)\n",
    "print('\\nEigenvalues \\n%s' %eig_vals)"
   ]
  },
  {
   "cell_type": "code",
   "execution_count": 103,
   "id": "ba9fd20c",
   "metadata": {},
   "outputs": [
    {
     "name": "stdout",
     "output_type": "stream",
     "text": [
      "Eigenvalues in descending order:\n",
      "2.870809987466297\n",
      "1.4615581783322944\n",
      "1.1526282894940725\n",
      "0.7333657709913532\n",
      "0.5005999270965648\n",
      "0.2147842123595002\n",
      "0.10842230895871655\n"
     ]
    }
   ],
   "source": [
    "eig_pairs = [(np.abs(eig_vals[i]), eig_vecs[:,i]) for i in range(len(eig_vals))]\n",
    "eig_pairs.sort(key=lambda x: x[0], reverse=True)\n",
    "print('Eigenvalues in descending order:')\n",
    "for i in eig_pairs:\n",
    "    print(i[0])"
   ]
  },
  {
   "cell_type": "code",
   "execution_count": 106,
   "id": "81f08b46",
   "metadata": {},
   "outputs": [
    {
     "data": {
      "image/png": "[encoded data removed]",
      "text/plain": [
       "<Figure size 432x288 with 1 Axes>"
      ]
     },
     "metadata": {},
     "output_type": "display_data"
    }
   ],
   "source": [
    "tot = sum(eig_vals)\n",
    "var_exp = [(i / tot)*100 for i in sorted(eig_vals, reverse=True)]\n",
    "\n",
    "with plt.style.context('dark_background'):\n",
    "    plt.figure(figsize=(6, 4))\n",
    "\n",
    "    plt.bar(range(7), var_exp, alpha=0.5, align='center',\n",
    "            label='individual explained variance')\n",
    "    plt.ylabel('Explained variance ratio')\n",
    "    plt.xlabel('Principal components')\n",
    "    plt.legend(loc='best')\n",
    "    plt.tight_layout()"
   ]
  },
  {
   "cell_type": "code",
   "execution_count": 107,
   "id": "54f2efbf",
   "metadata": {},
   "outputs": [
    {
     "name": "stdout",
     "output_type": "stream",
     "text": [
      "Matrix W:\n",
      " [[ 0.40923285 -0.55354705]\n",
      " [ 0.16169791  0.36662087]\n",
      " [ 0.29055332 -0.60519374]\n",
      " [ 0.45051192  0.07480251]\n",
      " [-0.26300875 -0.12381131]\n",
      " [ 0.47418277  0.32036961]\n",
      " [-0.47431755 -0.26335147]]\n"
     ]
    }
   ],
   "source": [
    "matrix_w = np.hstack((eig_pairs[0][1].reshape(7,1), \n",
    "                      eig_pairs[1][1].reshape(7,1)\n",
    "                    ))\n",
    "print('Matrix W:\\n', matrix_w)"
   ]
  },
  {
   "cell_type": "code",
   "execution_count": 108,
   "id": "9be2780b",
   "metadata": {},
   "outputs": [
    {
     "data": {
      "text/plain": [
       "array([[-2.52047205e+00, -3.17461302e-01],\n",
       "       [ 4.36751793e-01,  6.31700863e-01],\n",
       "       [-3.54202074e-01,  1.99732781e-01],\n",
       "       [-2.16183980e+00, -2.01379341e+00],\n",
       "       [ 9.59028666e-01, -4.47849304e-02],\n",
       "       [-4.57388762e-01,  1.53855822e+00],\n",
       "       [-1.68304225e-01,  4.05969011e-01],\n",
       "       [ 1.14682386e+00,  2.10285349e+00],\n",
       "       [ 2.19946485e+00,  1.13593507e+00],\n",
       "       [-1.04815185e-01,  3.15847785e-01],\n",
       "       [ 7.87875888e-01,  7.73036759e-01],\n",
       "       [ 1.47323420e+00, -4.91213642e-01],\n",
       "       [-1.01537272e+00,  7.48972046e-01],\n",
       "       [ 9.04445711e-01,  6.48012711e-01],\n",
       "       [ 5.39971093e-01, -6.52262859e-01],\n",
       "       [ 2.64832583e+00, -1.98434339e-01],\n",
       "       [ 3.56768866e-01, -7.14485074e-01],\n",
       "       [-1.94952766e+00, -4.85853794e-01],\n",
       "       [ 2.66462121e-01, -7.07246120e-01],\n",
       "       [-5.90166024e-01, -1.42930944e-02],\n",
       "       [ 9.69139192e-01,  1.25156125e+00],\n",
       "       [-6.38752503e-01, -4.64978627e-01],\n",
       "       [-2.70190297e-01,  2.10380451e+00],\n",
       "       [ 1.89452178e+00, -1.91241754e-02],\n",
       "       [ 9.48039844e-01,  1.02419071e-01],\n",
       "       [-2.47986808e+00, -1.49734437e-01],\n",
       "       [-2.51715968e+00,  3.26028834e-01],\n",
       "       [-1.64124885e-01, -8.82616782e-01],\n",
       "       [-2.20344099e+00, -1.87559430e-01],\n",
       "       [ 1.55716470e+00,  2.00953750e+00],\n",
       "       [ 3.53386268e-04, -4.08205443e-01],\n",
       "       [-3.03265122e+00, -4.97948907e-01],\n",
       "       [-2.45843115e+00, -1.31992011e+00],\n",
       "       [ 6.44882171e-01,  1.10314300e+00],\n",
       "       [-1.31646447e-01,  1.03861324e+00],\n",
       "       [-1.23114346e-01,  1.74023678e+00],\n",
       "       [-1.53321709e+00, -4.28756319e-01],\n",
       "       [-2.44242750e+00, -1.23704650e+00],\n",
       "       [-1.27933505e+00, -2.58449205e+00],\n",
       "       [ 7.62214229e-01,  1.53826136e+00],\n",
       "       [-1.76183664e+00, -1.25353482e+00],\n",
       "       [ 8.86916223e-01,  9.62645153e-01],\n",
       "       [ 1.73060358e+00,  1.73888421e-01],\n",
       "       [ 1.94291890e+00, -1.09634353e-01],\n",
       "       [ 1.93211283e+00,  1.17537503e+00],\n",
       "       [-2.32019299e-01,  8.44699366e-01],\n",
       "       [-5.45745655e-02,  1.04301682e+00],\n",
       "       [-9.75785641e-01,  5.21545978e-01],\n",
       "       [ 8.92352356e-02,  5.76029259e-01],\n",
       "       [-5.90550232e-01, -2.39924143e+00],\n",
       "       [-2.53295617e+00,  5.47393423e-02],\n",
       "       [ 1.68318243e+00, -8.36912164e-01],\n",
       "       [ 4.55040143e-03, -1.16416168e+00],\n",
       "       [ 1.53602249e+00,  1.27727031e+00],\n",
       "       [ 1.35923498e+00,  2.14956937e+00],\n",
       "       [-1.31041865e+00, -6.62637919e-01],\n",
       "       [-1.79052937e+00, -3.79022046e-01],\n",
       "       [ 3.53375280e-01,  6.26131550e-01],\n",
       "       [ 1.90288387e+00,  1.65155613e+00],\n",
       "       [-1.69249704e+00, -6.44655806e-01],\n",
       "       [ 1.16225406e+00,  1.99772949e+00],\n",
       "       [ 1.73689638e-02,  3.77796538e-01],\n",
       "       [-6.29310726e-01,  5.22133642e-01],\n",
       "       [-2.32237311e+00, -9.71843586e-01],\n",
       "       [-2.14334489e+00,  1.37491779e-01],\n",
       "       [ 6.65473510e-02, -1.35881702e+00],\n",
       "       [-2.65169134e+00, -1.40083567e+00],\n",
       "       [ 1.99754125e+00, -9.74833675e-01],\n",
       "       [ 1.70579660e+00,  8.42497244e-01],\n",
       "       [-1.13066274e+00,  3.40540123e-01],\n",
       "       [-1.07471313e+00,  3.27204268e-01],\n",
       "       [-2.65231683e-01,  1.12037486e+00],\n",
       "       [-1.09572871e+00,  4.53211630e-02],\n",
       "       [ 3.29629672e+00, -1.17609253e+00],\n",
       "       [ 7.84346197e-01,  1.08014651e+00],\n",
       "       [ 1.38151687e+00,  2.00342616e+00],\n",
       "       [-3.15203293e-02,  8.82973269e-02],\n",
       "       [ 1.18953693e+00,  2.62213373e+00],\n",
       "       [ 3.06751685e-01, -5.08346222e-01],\n",
       "       [-5.36464594e-01, -1.18062514e-01],\n",
       "       [-1.65090615e+00, -4.85000338e-02],\n",
       "       [-7.66734969e-01, -1.62276101e-01],\n",
       "       [ 1.85376642e+00, -7.44511610e-02],\n",
       "       [-1.09530084e-02, -1.35311538e+00],\n",
       "       [-9.63728083e-01, -6.06058980e-01],\n",
       "       [ 1.15600307e+00, -4.56975000e-03],\n",
       "       [ 1.17669828e+00,  4.55312002e-01],\n",
       "       [-7.73847076e-01, -1.69396258e+00],\n",
       "       [-9.85684506e-01, -7.83937864e-01],\n",
       "       [ 7.33075088e-01, -5.01677087e-01],\n",
       "       [ 1.44393463e+00, -5.42129668e-01],\n",
       "       [ 6.04630161e+00, -4.01159636e+00],\n",
       "       [ 7.88845084e-01,  2.09600040e-01],\n",
       "       [-1.90322057e+00, -6.97826437e-01],\n",
       "       [-2.59312939e+00, -5.15047133e-01],\n",
       "       [ 1.39986736e+00, -1.55355145e+00],\n",
       "       [ 1.32553445e+00, -8.45853355e-01],\n",
       "       [-2.52059650e+00, -6.26627362e-01],\n",
       "       [ 4.45335753e+00, -3.98730596e+00],\n",
       "       [-1.19224865e+00, -1.49920195e+00],\n",
       "       [ 1.00921648e+00, -2.80943868e-01],\n",
       "       [-7.79177446e-02,  2.07384715e-01],\n",
       "       [ 7.28849075e-01,  7.13465454e-02],\n",
       "       [-1.02078925e+00, -1.05283497e+00],\n",
       "       [ 1.02755754e+00,  4.71056268e-01],\n",
       "       [-8.35953497e-02,  2.70573875e-01],\n",
       "       [-2.30332743e+00, -1.10040651e+00],\n",
       "       [-1.79164026e+00,  1.27039819e+00],\n",
       "       [-6.78187005e-01, -1.01651853e+00],\n",
       "       [-1.24310593e+00,  5.24533891e-01],\n",
       "       [ 2.70799769e+00,  3.96398801e-01],\n",
       "       [ 1.05872108e+00,  1.74833659e+00],\n",
       "       [-2.66260005e+00, -1.11344103e+00],\n",
       "       [-4.82376805e+00, -1.21907977e+00],\n",
       "       [ 1.89115355e+00,  1.59508414e+00],\n",
       "       [ 8.37272544e-01, -6.70576542e-01],\n",
       "       [-1.96076762e+00,  1.96569015e-01],\n",
       "       [ 1.46450352e+00, -8.25091141e-01],\n",
       "       [ 2.78184966e-01, -3.78060590e-01],\n",
       "       [-1.75439197e-01,  9.49082784e-01],\n",
       "       [-7.39162642e-01, -1.39651353e-01],\n",
       "       [ 1.01769415e+00,  7.92742268e-01],\n",
       "       [ 1.36281832e+00,  1.75400360e+00],\n",
       "       [ 3.04613428e+00,  3.85167711e-01],\n",
       "       [ 4.18622567e-01,  6.12825010e-01],\n",
       "       [-2.51302014e-01,  7.94720827e-01],\n",
       "       [-1.47220723e+00,  1.01784209e+00],\n",
       "       [-6.34955422e-01, -1.44032883e-01],\n",
       "       [ 4.77310129e-01, -4.05254459e-04],\n",
       "       [-1.60734013e+00, -2.55119610e-01],\n",
       "       [ 7.52252408e-01,  1.04567152e+00],\n",
       "       [ 2.09509827e+00, -2.66464447e+00],\n",
       "       [-2.29005090e+00,  5.16682506e-01],\n",
       "       [ 6.43868903e+00, -5.72922458e+00],\n",
       "       [ 2.12796904e+00, -6.62891054e-01],\n",
       "       [ 2.09422577e+00,  1.87769993e-01],\n",
       "       [-5.77466234e-01, -1.38778729e+00],\n",
       "       [-1.13821650e+00,  4.98327718e-01],\n",
       "       [ 1.59894963e+00,  6.15183750e-01],\n",
       "       [ 1.33800607e+00,  2.01911609e+00],\n",
       "       [-9.28106658e-01,  4.80103726e-01],\n",
       "       [ 1.74557617e-02, -8.01534199e-02],\n",
       "       [-2.15980537e+00,  4.28369073e-01],\n",
       "       [ 1.46154688e-01,  6.89823766e-02],\n",
       "       [ 1.83054280e+00,  1.17320530e+00],\n",
       "       [ 2.85331789e+00,  9.09606083e-01],\n",
       "       [-9.98719936e-01, -1.21172225e-01],\n",
       "       [-2.36875054e+00, -1.23534223e-01],\n",
       "       [ 1.14383848e+00, -7.64423136e-01],\n",
       "       [-2.50429596e+00,  7.42788997e-01],\n",
       "       [-1.28585350e+00, -8.79106668e-01],\n",
       "       [-8.91700315e-01, -1.79152117e-01],\n",
       "       [ 7.40077991e-01, -9.16466383e-02],\n",
       "       [ 1.26847881e-01,  1.37347418e+00],\n",
       "       [ 1.06082034e-01, -1.26971902e+00],\n",
       "       [-2.62814644e+00,  8.90633719e-02],\n",
       "       [ 3.00576892e-01,  4.93637238e-02],\n",
       "       [ 2.04990116e+00, -1.07766350e+00],\n",
       "       [ 1.22561665e+00,  1.72157996e+00],\n",
       "       [ 1.52559174e+00,  3.51940422e+00],\n",
       "       [ 2.66096167e-01,  1.44035749e+00],\n",
       "       [-8.44525730e-01,  4.07041977e-01],\n",
       "       [-7.21747995e-01, -8.30419909e-01],\n",
       "       [-1.21100825e+00,  5.42787706e-01],\n",
       "       [ 9.10276078e-01, -1.29152554e+00],\n",
       "       [-1.80947073e+00, -3.26795357e-01],\n",
       "       [-2.55177104e+00, -8.65089389e-01]])"
      ]
     },
     "execution_count": 108,
     "metadata": {},
     "output_type": "execute_result"
    }
   ],
   "source": [
    "Y = X_std.dot(matrix_w)\n",
    "Y"
   ]
  },
  {
   "cell_type": "code",
   "execution_count": 109,
   "id": "ed868c33",
   "metadata": {},
   "outputs": [
    {
     "ename": "NameError",
     "evalue": "name 'shape' is not defined",
     "output_type": "error",
     "traceback": [
      "\u001b[0;31m---------------------------------------------------------------------------\u001b[0m",
      "\u001b[0;31mNameError\u001b[0m                                 Traceback (most recent call last)",
      "Input \u001b[0;32mIn [109]\u001b[0m, in \u001b[0;36m<module>\u001b[0;34m\u001b[0m\n\u001b[0;32m----> 1\u001b[0m \u001b[43mshape\u001b[49m\n",
      "\u001b[0;31mNameError\u001b[0m: name 'shape' is not defined"
     ]
    }
   ],
   "source": [
    "shape"
   ]
  },
  {
   "cell_type": "code",
   "execution_count": null,
   "id": "26e3b559",
   "metadata": {},
   "outputs": [],
   "source": []
  }
 ],
 "metadata": {
  "kernelspec": {
   "display_name": "Python 3 (ipykernel)",
   "language": "python",
   "name": "python3"
  },
  "language_info": {
   "codemirror_mode": {
    "name": "ipython",
    "version": 3
   },
   "file_extension": ".py",
   "mimetype": "text/x-python",
   "name": "python",
   "nbconvert_exporter": "python",
   "pygments_lexer": "ipython3",
   "version": "3.10.1"
  }
 },
 "nbformat": 4,
 "nbformat_minor": 5
}
